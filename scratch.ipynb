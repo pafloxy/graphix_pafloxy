{
 "cells": [
  {
   "cell_type": "code",
   "execution_count": 3,
   "metadata": {},
   "outputs": [],
   "source": [
    "import networkx as nx\n",
    "import numpy as np\n",
    "import z3\n",
    "import copy\n",
    "import galois as ga \n",
    "import gf2elim\n",
    "from graphix.gflow import solvebool"
   ]
  },
  {
   "cell_type": "code",
   "execution_count": 4,
   "metadata": {},
   "outputs": [],
   "source": [
    "import graphix \n",
    "import numpy as np\n",
    "from graphix import Circuit\n",
    "import networkx as nx\n",
    "import matplotlib.pyplot as plt\n",
    "from graphix.gflow import flow , gflow\n",
    "from graphix.pattern import *\n",
    "\n",
    "\n",
    "\n",
    "import sympy as sp \n"
   ]
  },
  {
   "cell_type": "code",
   "execution_count": 102,
   "metadata": {},
   "outputs": [],
   "source": [
    "## helper \n",
    "\n",
    "\n",
    "def process_layer_data(graph: nx.Graph, layer_map: dict):\n",
    "\n",
    "    node_attributes = {}; max_l = max(set(layer_map.values()))\n",
    "    layer_data = {n: set() for n in range(max_l +1 )}\n",
    "\n",
    "    for v in graph.nodes():\n",
    "        # print(v); print(layer_data[v])\n",
    "        node_attributes[v] = {\"layer\" : layer_map[v]}\n",
    "        layer_data[layer_map[v]].add(v)\n",
    "\n",
    "    return {'attribute_data' : node_attributes, 'nodes_in_layers': layer_data, 'num_layers' : max_l  }\n",
    "\n",
    "\n",
    "def get_nx_graph(pattern: graphix.Pattern):\n",
    "    nodes, edges = pattern.get_graph()\n",
    "    g = nx.Graph()\n",
    "    g.add_nodes_from(nodes)\n",
    "    g.add_edges_from(edges)\n",
    "\n",
    "    return g\n",
    "\n",
    "def get_pos(pattern: graphix.Pattern, f:dict):\n",
    "\n",
    "    num_output_nodes = len(pattern.output_nodes)\n",
    "    flow = [[i] for i in range(num_output_nodes)]\n",
    "    for i in range(num_output_nodes):\n",
    "        contd = True\n",
    "        val = i\n",
    "        while contd:\n",
    "            try:\n",
    "                val = f[val]\n",
    "                flow[i].append(val)\n",
    "            except KeyError:\n",
    "                contd = False\n",
    "    longest = np.max([len(flow[i]) for i in range(num_output_nodes)])\n",
    "\n",
    "    pos = dict()\n",
    "    for i in range(num_output_nodes):\n",
    "        length = len(flow[i])\n",
    "        fac = longest / (length - 1)\n",
    "        for j in range(len(flow[i])):\n",
    "            pos[flow[i][j]] = (fac * j, -i)\n",
    "    \n",
    "    return pos, longest\n",
    "\n",
    "# determine wheher or not a node will be measured in Pauli basis\n",
    "def get_clr_list(pattern):\n",
    "    nodes, edges = pattern.get_graph()\n",
    "    meas_list = pattern.get_measurement_commands()\n",
    "    g = get_nx_graph(pattern)\n",
    "    clr_list = []\n",
    "    for i in g.nodes:\n",
    "        for cmd in meas_list:\n",
    "            if cmd[1] == i:\n",
    "                if cmd[3] in [-1, -0.5, 0, 0.5, 1]:\n",
    "                    clr_list.append([0.5, 0.5, 0.5])\n",
    "                else:\n",
    "                    clr_list.append([1, 1, 1])\n",
    "        if i in pattern.output_nodes:\n",
    "            clr_list.append([0.8, 0.8, 0.8])\n",
    "    return clr_list\n",
    "\n",
    "def pretty_plot_pattern(pattern: graphix.Pattern, input_nodes : set):\n",
    "\n",
    "    clr_list = get_clr_list(pattern)\n",
    "    g = get_nx_graph(pattern)\n",
    "    f, l_k = flow(g, input_nodes, set(pattern.output_nodes))\n",
    "    \n",
    "    assert isinstance(f, dict)\n",
    "    pos, length = get_pos(pattern, f) ; layer_data = process_layer_data(g, l_k)\n",
    "    \n",
    "    nx.set_node_attributes(g, layer_data['attribute_data'])\n",
    "\n",
    "    graph_params = {\"with_labels\": True, \"node_size\": 600, \"node_color\": 'w', \"edgecolors\": \"k\"}\n",
    "    pos = nx.multipartite_layout(g, subset_key= 'layer', align='vertical', scale= 100)\n",
    "\n",
    "    plt.figure(figsize=(25,16))\n",
    "\n",
    "    for layer in range(layer_data['num_layers']):   \n",
    "        vertx_1 = next(iter(layer_data['nodes_in_layers'][layer])); xcoord_1 = pos[vertx_1][0]\n",
    "        vertx_2 = next(iter(layer_data['nodes_in_layers'][layer + 1])); xcoord_2 = pos[vertx_2][0]\n",
    "        xcoord = np.mean([xcoord_1, xcoord_2])\n",
    "        plt.axvline(xcoord)\n",
    "        plt.text(x= xcoord + 1.5, y= -18, s= 'l= ' + str(layer) )\n",
    "\n",
    "    edge_color= []\n",
    "    for u,v in g.edges():\n",
    "        if( u not in pattern.output_nodes and v not in pattern.output_nodes ) :\n",
    "            # print (u,v, u==f[v] or v== f[u])\n",
    "            if u==f[v] or v== f[u] :\n",
    "                edge_color.append('r')\n",
    "            else :\n",
    "                edge_color.append('g')\n",
    "\n",
    "\n",
    "    nx.draw_networkx(g, pos= pos, **graph_params, edge_color = edge_color)\n",
    "\n",
    "    \n",
    "    \n",
    "\n",
    "            "
   ]
  },
  {
   "cell_type": "code",
   "execution_count": 109,
   "metadata": {},
   "outputs": [],
   "source": [
    "def build_random_circuit(n: int, params: list = None, random: bool = True ):\n",
    "\n",
    "    # assert len(params) == n * layers ## checks\n",
    "\n",
    "    c = Circuit(n)\n",
    "    p_stop = 1.0 \n",
    "    \n",
    "    for _ in range(10):\n",
    "        while np.random.random() <= p_stop : \n",
    "            # print(p_stop)\n",
    "            for i in range(np.random.randint(1,n)): ## circular entangelemnt \n",
    "                if random:\n",
    "                    js = np.random.choice(range(n), size= np.random.randint(int(n/2)))\n",
    "                    for j in js : \n",
    "                        if j != i:\n",
    "                            c.cnot(i, j)    \n",
    "\n",
    "                # else:\n",
    "                #     c.cnot(i %n,(i+1)%n)\n",
    "\n",
    "            for i in range(np.random.randint(1,n)): ## paramterised rx rotations \n",
    "                if random :\n",
    "                    c.rx(i, np.random.random() * 2 * np.pi) \n",
    "\n",
    "                    # else:\n",
    "                        # c.rx(i, params[ n*l + i]) \n",
    "\n",
    "            p_stop = p_stop - 0.01\n",
    "\n",
    "        return c"
   ]
  },
  {
   "cell_type": "code",
   "execution_count": 110,
   "metadata": {},
   "outputs": [
    {
     "data": {
      "text/plain": [
       "[['CNOT', [1, 3]],\n",
       " ['CNOT', [2, 1]],\n",
       " ['Rx', 0, 1.282470472800633],\n",
       " ['CNOT', [0, 3]],\n",
       " ['Rx', 0, 0.35825535379465157],\n",
       " ['CNOT', [2, 1]],\n",
       " ['Rx', 0, 3.5407833467822667],\n",
       " ['Rx', 1, 4.154010191923379],\n",
       " ['CNOT', [1, 2]],\n",
       " ['Rx', 0, 3.1821433815008264],\n",
       " ['Rx', 1, 0.9133127222146268],\n",
       " ['CNOT', [0, 4]],\n",
       " ['CNOT', [1, 2]],\n",
       " ['CNOT', [2, 0]],\n",
       " ['Rx', 0, 2.1675092577787654],\n",
       " ['Rx', 1, 4.53395711311389],\n",
       " ['Rx', 2, 1.2315459043473074],\n",
       " ['Rx', 0, 3.9548899558418693],\n",
       " ['Rx', 1, 2.6989219789840413],\n",
       " ['Rx', 2, 5.7628385278961005],\n",
       " ['Rx', 3, 4.667287383181035]]"
      ]
     },
     "execution_count": 110,
     "metadata": {},
     "output_type": "execute_result"
    }
   ],
   "source": [
    "c = build_random_circuit(5);\n",
    "c.instruction"
   ]
  },
  {
   "cell_type": "code",
   "execution_count": 111,
   "metadata": {},
   "outputs": [],
   "source": [
    "ptrn = c.standardize_and_transpile()"
   ]
  },
  {
   "cell_type": "code",
   "execution_count": 114,
   "metadata": {},
   "outputs": [
    {
     "data": {
      "image/png": "[encoded data removed]",
      "text/plain": [
       "<Figure size 640x480 with 1 Axes>"
      ]
     },
     "metadata": {},
     "output_type": "display_data"
    }
   ],
   "source": [
    "grph = get_nx_graph(ptrn)\n",
    "\n",
    "nx.draw_networkx(grph,)"
   ]
  },
  {
   "cell_type": "code",
   "execution_count": 113,
   "metadata": {},
   "outputs": [
    {
     "data": {
      "text/plain": [
       "(2,\n",
       " {0: {0,\n",
       "   1,\n",
       "   2,\n",
       "   3,\n",
       "   4,\n",
       "   5,\n",
       "   6,\n",
       "   7,\n",
       "   8,\n",
       "   10,\n",
       "   11,\n",
       "   12,\n",
       "   14,\n",
       "   15,\n",
       "   16,\n",
       "   18,\n",
       "   20,\n",
       "   21,\n",
       "   22,\n",
       "   24,\n",
       "   26,\n",
       "   27,\n",
       "   29,\n",
       "   30,\n",
       "   31,\n",
       "   32,\n",
       "   34,\n",
       "   36,\n",
       "   38},\n",
       "  1: {9, 13, 17, 19, 23, 25, 33, 35, 37, 39, 41, 43, 45}})"
      ]
     },
     "execution_count": 113,
     "metadata": {},
     "output_type": "execute_result"
    }
   ],
   "source": [
    "ptrn.get_layers()"
   ]
  },
  {
   "cell_type": "code",
   "execution_count": null,
   "metadata": {},
   "outputs": [],
   "source": []
  }
 ],
 "metadata": {
  "kernelspec": {
   "display_name": "Python 3",
   "language": "python",
   "name": "python3"
  },
  "language_info": {
   "codemirror_mode": {
    "name": "ipython",
    "version": 3
   },
   "file_extension": ".py",
   "mimetype": "text/x-python",
   "name": "python",
   "nbconvert_exporter": "python",
   "pygments_lexer": "ipython3",
   "version": "3.10.12"
  },
  "orig_nbformat": 4
 },
 "nbformat": 4,
 "nbformat_minor": 2
}
