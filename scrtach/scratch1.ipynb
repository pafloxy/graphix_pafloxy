{
 "cells": [
  {
   "cell_type": "code",
   "execution_count": 32,
   "metadata": {},
   "outputs": [
    {
     "data": {
      "text/plain": [
       "'/home/pafloxy/Documents/mbqc_packages'"
      ]
     },
     "execution_count": 32,
     "metadata": {},
     "output_type": "execute_result"
    }
   ],
   "source": [
    "import os\n",
    "os.chdir('..')\n",
    "os.getcwd()"
   ]
  },
  {
   "cell_type": "code",
   "execution_count": 422,
   "metadata": {},
   "outputs": [],
   "source": [
    "import numpy as np\n",
    "import networkx as nx \n",
    "from graphix.gflow import *\n",
    "import galois\n",
    "from tqdm import tqdm"
   ]
  },
  {
   "cell_type": "code",
   "execution_count": 34,
   "metadata": {},
   "outputs": [],
   "source": [
    "GF2 = galois.GF(2)"
   ]
  },
  {
   "cell_type": "code",
   "execution_count": 35,
   "metadata": {},
   "outputs": [],
   "source": [
    "o = 5 \n",
    "n = 20\n",
    "\n",
    "\n",
    "def generate_random_gfv(n, seed= None):\n",
    "    \n",
    "    V = [list(np.random.choice([0,1], size= n))]\n",
    "    # size = o    \n",
    "    \n",
    "    if not isinstance(seed, type(None)): np.random.seed(seed)\n",
    "\n",
    "    for nodes in range(1,n):\n",
    "\n",
    "        C = GF2(V)\n",
    "        # print(C)\n",
    "        C_ns = C.null_space()\n",
    "        dim_ns = len(C_ns)\n",
    "        if dim_ns == 0 :\n",
    "            return GF2(V) \n",
    "        \n",
    "        repeated_elem = True; max_it = 0\n",
    "        while repeated_elem:\n",
    "            rnds = np.random.choice([0,1],size= dim_ns)\n",
    "            v = C_ns[0]\n",
    "            if dim_ns >= 1:\n",
    "                for rnd  in rnds[1:]:\n",
    "                    v = v + C_ns[rnd]\n",
    "            v_ = list(np.array(v))\n",
    "            if v_ in V : \n",
    "                repeated_elem = True\n",
    "                max_it += 1\n",
    "                if max_it > 100: break\n",
    "            else:\n",
    "                repeated_elem = False\n",
    "\n",
    "        # print(len(V))\n",
    "        V.append(v_)\n",
    "\n",
    "        # for vec in range(len(V)):\n",
    "        #     V[vec] += [0]\n",
    "        \n",
    "        # print(V)\n",
    "    return GF2(V) \n",
    "    "
   ]
  },
  {
   "cell_type": "code",
   "execution_count": 36,
   "metadata": {},
   "outputs": [],
   "source": [
    "\n",
    "def generate_random_gfv_ns(o, n, seed= None, verbose=False):\n",
    "    \n",
    "    V = [list(np.random.choice([0,1], size= o))]\n",
    "    size = o    \n",
    "    \n",
    "    if not isinstance(seed, type(None)): np.random.seed(seed)\n",
    "\n",
    "    for nodes in range(o+1,n+1):\n",
    "\n",
    "        C = GF2(V)\n",
    "        # print(C)\n",
    "        C_ns = C.null_space()\n",
    "        dim_ns = len(C_ns)\n",
    "        if dim_ns == 0 :\n",
    "            return GF2(V) \n",
    "        \n",
    "        repeated_elem = True; max_it = 0\n",
    "        while repeated_elem:\n",
    "            rnds = np.random.choice([0,1],size= dim_ns)\n",
    "            v = C_ns[0]\n",
    "            if dim_ns >= 1:\n",
    "                for rnd  in rnds[1:]:\n",
    "                    v = v + C_ns[rnd]\n",
    "            v_ = list(np.array(v))\n",
    "            if v_ in V or np.sum(v_) == 0 : \n",
    "                repeated_elem = True\n",
    "                max_it += 1\n",
    "                if max_it > 200: break\n",
    "            else:\n",
    "                repeated_elem = False\n",
    "\n",
    "        if verbose: \n",
    "            # print(np.linalg.matrix_rank(GF2(V)))\n",
    "            gfv = GF2(V)\n",
    "            vrank = np.linalg.matrix_rank(gfv)\n",
    "            vnullity = len(gfv.null_space())\n",
    "            print(f'dim : {gfv.shape[1]} ; rank : {vrank}; nullity : {vnullity}')\n",
    "        # print(len(V))\n",
    "        V.append(v_)\n",
    "\n",
    "        for vec in range(len(V)):\n",
    "            V[vec] += [0]*2\n",
    "        \n",
    "        # print(V)\n",
    "    return GF2(V) "
   ]
  },
  {
   "cell_type": "code",
   "execution_count": 37,
   "metadata": {},
   "outputs": [],
   "source": [
    "\n",
    "def generate_random_gfv_layered(o, n, layer_p= 0.5, seed= None, verbose=False):\n",
    "    \n",
    "    \n",
    "    size = o    \n",
    "    LAYER_INFO = {0: list(range(o))}\n",
    "    if not isinstance(seed, type(None)): np.random.seed(seed)\n",
    "\n",
    "    V = [list(np.random.choice([0,1], size= o))]\n",
    "    \n",
    "    for nodes in range(o,n):\n",
    "\n",
    "        ## present-layer\n",
    "        C = GF2(V)\n",
    "        # print(C)\n",
    "        C_ns = C.null_space()\n",
    "        dim_ns = len(C_ns)\n",
    "        if dim_ns == 0 :\n",
    "            return GF2(V) \n",
    "\n",
    "        repeated_elem = True; max_it = 0\n",
    "        while repeated_elem:\n",
    "            rnds = np.random.choice([0,1],size= dim_ns)\n",
    "            v = C_ns[0]\n",
    "            if dim_ns >= 1:\n",
    "                for rnd  in rnds[1:]:\n",
    "                    v = v + C_ns[rnd]\n",
    "            v_ = list(np.array(v))\n",
    "            if v_ in V or np.sum(v_) == 0 : \n",
    "                repeated_elem = True\n",
    "                max_it += 1\n",
    "                if max_it > 200: break\n",
    "            else:\n",
    "                repeated_elem = False\n",
    "        \n",
    "        V.append(v_)\n",
    "        ## move to next-layer\n",
    "\n",
    "        if verbose: \n",
    "            # print(np.linalg.matrix_rank(GF2(V)))\n",
    "            gfv = GF2(V)\n",
    "            vrank = np.linalg.matrix_rank(gfv)\n",
    "            vnullity = len(gfv.null_space())\n",
    "            print(f'dim : {gfv.shape[1]} ; rank : {vrank}; nullity : {vnullity}')\n",
    "        # print(len(V))\n",
    "        \n",
    "\n",
    "        for vec in range(len(V)):\n",
    "            V[vec] += [0]*2\n",
    "        \n",
    "        # print(V)\n",
    "    return GF2(V) "
   ]
  },
  {
   "cell_type": "code",
   "execution_count": 17,
   "metadata": {},
   "outputs": [
    {
     "name": "stdout",
     "output_type": "stream",
     "text": [
      "dim : 5 ; rank : 1; nullity : 4\n",
      "dim : 7 ; rank : 2; nullity : 5\n",
      "dim : 9 ; rank : 3; nullity : 6\n",
      "dim : 11 ; rank : 4; nullity : 7\n",
      "dim : 13 ; rank : 5; nullity : 8\n",
      "dim : 15 ; rank : 6; nullity : 9\n",
      "dim : 17 ; rank : 7; nullity : 10\n",
      "dim : 19 ; rank : 8; nullity : 11\n",
      "dim : 21 ; rank : 9; nullity : 12\n",
      "dim : 23 ; rank : 10; nullity : 13\n",
      "dim : 25 ; rank : 11; nullity : 14\n",
      "dim : 27 ; rank : 12; nullity : 15\n",
      "dim : 29 ; rank : 13; nullity : 16\n",
      "dim : 31 ; rank : 14; nullity : 17\n",
      "dim : 33 ; rank : 15; nullity : 18\n",
      "dim : 35 ; rank : 16; nullity : 19\n",
      "dim : 37 ; rank : 17; nullity : 20\n",
      "dim : 39 ; rank : 18; nullity : 21\n",
      "dim : 41 ; rank : 19; nullity : 22\n",
      "dim : 43 ; rank : 20; nullity : 23\n"
     ]
    },
    {
     "data": {
      "text/plain": [
       "21"
      ]
     },
     "execution_count": 17,
     "metadata": {},
     "output_type": "execute_result"
    }
   ],
   "source": [
    "gfv = generate_random_gfv_ns(5, 25, verbose= True)\n",
    "gfvnp = np.array(gfv); \n",
    "# gfvnp, gfvnp.shape\n",
    "# gfv.row_space(), \n",
    "np.linalg.matrix_rank(gfvnp)"
   ]
  },
  {
   "cell_type": "code",
   "execution_count": 18,
   "metadata": {},
   "outputs": [
    {
     "data": {
      "text/plain": [
       "GF([[1, 1, 0, ..., 0, 0, 0],\n",
       "    [0, 0, 0, ..., 0, 0, 0],\n",
       "    [0, 0, 0, ..., 0, 0, 0],\n",
       "    ...,\n",
       "    [0, 0, 0, ..., 1, 0, 0],\n",
       "    [0, 0, 0, ..., 0, 1, 0],\n",
       "    [0, 0, 0, ..., 0, 0, 1]], order=2)"
      ]
     },
     "execution_count": 18,
     "metadata": {},
     "output_type": "execute_result"
    }
   ],
   "source": [
    "gfv.null_space()"
   ]
  },
  {
   "cell_type": "code",
   "execution_count": 19,
   "metadata": {},
   "outputs": [
    {
     "data": {
      "text/plain": [
       "GF([[1, 1, 0, 0, 0, 0, 0, 0, 0, 0, 0, 0, 0, 0, 0, 0, 0, 0, 0, 0, 0, 0, 0,\n",
       "     0, 0, 0, 0, 0, 0, 0, 0, 0, 0, 0, 0, 0, 0, 0, 0, 0, 0, 0, 0, 0, 0],\n",
       "    [0, 0, 1, 0, 0, 0, 0, 0, 0, 0, 0, 0, 0, 0, 0, 0, 0, 0, 0, 0, 0, 0, 0,\n",
       "     0, 0, 0, 0, 0, 0, 0, 0, 0, 0, 0, 0, 0, 0, 0, 0, 0, 0, 0, 0, 0, 0],\n",
       "    [0, 0, 0, 1, 0, 0, 0, 0, 0, 0, 0, 0, 0, 0, 0, 0, 0, 0, 0, 0, 0, 0, 0,\n",
       "     0, 0, 0, 0, 0, 0, 0, 0, 0, 0, 0, 0, 0, 0, 0, 0, 0, 0, 0, 0, 0, 0],\n",
       "    [0, 0, 0, 0, 1, 0, 0, 0, 0, 0, 0, 0, 0, 0, 0, 0, 0, 0, 0, 0, 0, 0, 0,\n",
       "     0, 0, 0, 0, 0, 0, 0, 0, 0, 0, 0, 0, 0, 0, 0, 0, 0, 0, 0, 0, 0, 0],\n",
       "    [0, 0, 0, 0, 0, 1, 0, 0, 0, 0, 0, 0, 0, 0, 0, 0, 0, 0, 0, 0, 0, 0, 0,\n",
       "     0, 0, 0, 0, 0, 0, 0, 0, 0, 0, 0, 0, 0, 0, 0, 0, 0, 0, 0, 0, 0, 0],\n",
       "    [0, 0, 0, 0, 0, 0, 1, 0, 0, 0, 0, 0, 0, 0, 0, 0, 0, 0, 0, 0, 0, 0, 0,\n",
       "     0, 0, 0, 0, 0, 0, 0, 0, 0, 0, 0, 0, 0, 0, 0, 0, 0, 0, 0, 0, 0, 0],\n",
       "    [0, 0, 0, 0, 0, 0, 0, 1, 0, 0, 0, 0, 0, 0, 0, 0, 0, 0, 0, 0, 0, 0, 0,\n",
       "     0, 0, 0, 0, 0, 0, 0, 0, 0, 0, 0, 0, 0, 0, 0, 0, 0, 0, 0, 0, 0, 0],\n",
       "    [0, 0, 0, 0, 0, 0, 0, 0, 1, 0, 0, 0, 0, 0, 0, 0, 0, 0, 0, 0, 0, 0, 0,\n",
       "     0, 0, 0, 0, 0, 0, 0, 0, 0, 0, 0, 0, 0, 0, 0, 0, 0, 0, 0, 0, 0, 0],\n",
       "    [0, 0, 0, 0, 0, 0, 0, 0, 0, 1, 0, 0, 0, 0, 0, 0, 0, 0, 0, 0, 0, 0, 0,\n",
       "     0, 0, 0, 0, 0, 0, 0, 0, 0, 0, 0, 0, 0, 0, 0, 0, 0, 0, 0, 0, 0, 0],\n",
       "    [0, 0, 0, 0, 0, 0, 0, 0, 0, 0, 1, 0, 0, 0, 0, 0, 0, 0, 0, 0, 0, 0, 0,\n",
       "     0, 0, 0, 0, 0, 0, 0, 0, 0, 0, 0, 0, 0, 0, 0, 0, 0, 0, 0, 0, 0, 0],\n",
       "    [0, 0, 0, 0, 0, 0, 0, 0, 0, 0, 0, 1, 0, 0, 0, 0, 0, 0, 0, 0, 0, 0, 0,\n",
       "     0, 0, 0, 0, 0, 0, 0, 0, 0, 0, 0, 0, 0, 0, 0, 0, 0, 0, 0, 0, 0, 0],\n",
       "    [0, 0, 0, 0, 0, 0, 0, 0, 0, 0, 0, 0, 1, 0, 0, 0, 0, 0, 0, 0, 0, 0, 0,\n",
       "     0, 0, 0, 0, 0, 0, 0, 0, 0, 0, 0, 0, 0, 0, 0, 0, 0, 0, 0, 0, 0, 0],\n",
       "    [0, 0, 0, 0, 0, 0, 0, 0, 0, 0, 0, 0, 0, 1, 0, 0, 0, 0, 0, 0, 0, 0, 0,\n",
       "     0, 0, 0, 0, 0, 0, 0, 0, 0, 0, 0, 0, 0, 0, 0, 0, 0, 0, 0, 0, 0, 0],\n",
       "    [0, 0, 0, 0, 0, 0, 0, 0, 0, 0, 0, 0, 0, 0, 1, 0, 0, 0, 0, 0, 0, 0, 0,\n",
       "     0, 0, 0, 0, 0, 0, 0, 0, 0, 0, 0, 0, 0, 0, 0, 0, 0, 0, 0, 0, 0, 0],\n",
       "    [0, 0, 0, 0, 0, 0, 0, 0, 0, 0, 0, 0, 0, 0, 0, 1, 0, 0, 0, 0, 0, 0, 0,\n",
       "     0, 0, 0, 0, 0, 0, 0, 0, 0, 0, 0, 0, 0, 0, 0, 0, 0, 0, 0, 0, 0, 0],\n",
       "    [0, 0, 0, 0, 0, 0, 0, 0, 0, 0, 0, 0, 0, 0, 0, 0, 1, 0, 0, 0, 0, 0, 0,\n",
       "     0, 0, 0, 0, 0, 0, 0, 0, 0, 0, 0, 0, 0, 0, 0, 0, 0, 0, 0, 0, 0, 0],\n",
       "    [0, 0, 0, 0, 0, 0, 0, 0, 0, 0, 0, 0, 0, 0, 0, 0, 0, 1, 0, 0, 0, 0, 0,\n",
       "     0, 0, 0, 0, 0, 0, 0, 0, 0, 0, 0, 0, 0, 0, 0, 0, 0, 0, 0, 0, 0, 0],\n",
       "    [0, 0, 0, 0, 0, 0, 0, 0, 0, 0, 0, 0, 0, 0, 0, 0, 0, 0, 1, 0, 0, 0, 0,\n",
       "     0, 0, 0, 0, 0, 0, 0, 0, 0, 0, 0, 0, 0, 0, 0, 0, 0, 0, 0, 0, 0, 0],\n",
       "    [0, 0, 0, 0, 0, 0, 0, 0, 0, 0, 0, 0, 0, 0, 0, 0, 0, 0, 0, 1, 0, 0, 0,\n",
       "     0, 0, 0, 0, 0, 0, 0, 0, 0, 0, 0, 0, 0, 0, 0, 0, 0, 0, 0, 0, 0, 0],\n",
       "    [0, 0, 0, 0, 0, 0, 0, 0, 0, 0, 0, 0, 0, 0, 0, 0, 0, 0, 0, 0, 1, 0, 0,\n",
       "     0, 0, 0, 0, 0, 0, 0, 0, 0, 0, 0, 0, 0, 0, 0, 0, 0, 0, 0, 0, 0, 0],\n",
       "    [0, 0, 0, 0, 0, 0, 0, 0, 0, 0, 0, 0, 0, 0, 0, 0, 0, 0, 0, 0, 0, 1, 0,\n",
       "     0, 0, 0, 0, 0, 0, 0, 0, 0, 0, 0, 0, 0, 0, 0, 0, 0, 0, 0, 0, 0, 0]],\n",
       "   order=2)"
      ]
     },
     "execution_count": 19,
     "metadata": {},
     "output_type": "execute_result"
    }
   ],
   "source": [
    "gfv.row_space()"
   ]
  },
  {
   "cell_type": "code",
   "execution_count": 15,
   "metadata": {},
   "outputs": [
    {
     "data": {
      "text/plain": [
       "True"
      ]
     },
     "execution_count": 15,
     "metadata": {},
     "output_type": "execute_result"
    }
   ],
   "source": [
    "id = np.array(gfv @ gfv.transpose())\n",
    "# check if the matrix ar is diagonal\n",
    "np.array_equal(id, np.diag(np.diag(id)))"
   ]
  },
  {
   "cell_type": "code",
   "execution_count": 52,
   "metadata": {},
   "outputs": [
    {
     "name": "stderr",
     "output_type": "stream",
     "text": [
      "num nodes : 10: 100%|██████████| 200/200 [00:06<00:00, 31.65it/s]\n",
      "num nodes : 20: 100%|██████████| 200/200 [00:50<00:00,  3.95it/s]\n",
      "num nodes : 30: 100%|██████████| 200/200 [02:54<00:00,  1.14it/s]\n",
      "num nodes : 40: 100%|██████████| 200/200 [05:14<00:00,  1.57s/it]\n",
      "num nodes : 50: 100%|██████████| 200/200 [07:35<00:00,  2.28s/it]\n"
     ]
    }
   ],
   "source": [
    "NUM_EXP = 200\n",
    "NUM_NODES = [10,20,30,40,50]\n",
    "\n",
    "DATA = {node: None for node in NUM_NODES}\n"
   ]
  },
  {
   "cell_type": "code",
   "execution_count": 103,
   "metadata": {},
   "outputs": [],
   "source": [
    "import pickle as pkl\n",
    "with open('DATA.pkl', 'wb') as f:\n",
    "    pkl.dump(DATA, f)"
   ]
  },
  {
   "cell_type": "code",
   "execution_count": 95,
   "metadata": {},
   "outputs": [
    {
     "name": "stderr",
     "output_type": "stream",
     "text": [
      "num nodes : 80: 100%|██████████| 200/200 [26:02<00:00,  7.81s/it]\n"
     ]
    }
   ],
   "source": [
    "NUM_NODES = [80]\n",
    "for num_node in NUM_NODES:\n",
    "    RANK_STAT = []\n",
    "    for exp in tqdm(range(NUM_EXP), desc = 'num nodes : ' + str(num_node)):\n",
    "        gfv = generate_random_gfv(num_node)\n",
    "        rank = np.linalg.matrix_rank(np.array(gfv))\n",
    "        RANK_STAT.append(rank)\n",
    "    DATA[num_node] = RANK_STAT\n",
    "\n"
   ]
  },
  {
   "cell_type": "code",
   "execution_count": 53,
   "metadata": {},
   "outputs": [],
   "source": [
    "import matplotlib.pyplot as plt "
   ]
  },
  {
   "cell_type": "code",
   "execution_count": 97,
   "metadata": {},
   "outputs": [],
   "source": [
    "## normalise DATA\n",
    "NDATA = {}\n",
    "for nn in DATA.keys():\n",
    "    NDATA[nn] =  np.array(DATA[nn]) / nn"
   ]
  },
  {
   "cell_type": "code",
   "execution_count": 98,
   "metadata": {},
   "outputs": [
    {
     "name": "stdout",
     "output_type": "stream",
     "text": [
      "0.509 0.22185355530168996\n",
      "0.259 0.10928860873851401\n",
      "0.16316666666666665 0.0687505555533109\n",
      "0.12424999999999999 0.049365347157697574\n",
      "0.10240000000000002 0.039220402853616894\n",
      "0.08533333333333334 0.032555934772156195\n",
      "0.06425 0.025032478902417957\n"
     ]
    }
   ],
   "source": [
    "for nn, data in NDATA.items():\n",
    "    print(np.mean(data), np.std(data))"
   ]
  },
  {
   "cell_type": "code",
   "execution_count": null,
   "metadata": {},
   "outputs": [],
   "source": [
    "dim1 = 2; dim2 = 3\n",
    "plt.figure(figsize= (25,17))\n",
    "fig, axs = plt.subplots(dim1, dim2, figsize= (25,17))\n",
    "axs[0, 0].hist(NDATA[10], bins= 50,);# range= (0,1));\n",
    "axs[0, 1].hist(NDATA[20], bins= 50,); #range= (0,1));\n",
    "axs[0, 2].hist(NDATA[30], bins= 50,); #range= (0,1));\n",
    "axs[1, 0].hist(NDATA[40], bins= 50,); #range= (0,1));\n",
    "axs[1, 1].hist(NDATA[50], bins= 50,); #range= (0,1));\n",
    "axs[1, 2].hist(NDATA[60], bins= 50,); #range= (0,1));"
   ]
  },
  {
   "cell_type": "code",
   "execution_count": 91,
   "metadata": {},
   "outputs": [
    {
     "data": {
      "text/plain": [
       "<Figure size 2500x1700 with 0 Axes>"
      ]
     },
     "metadata": {},
     "output_type": "display_data"
    },
    {
     "data": {
      "image/png": "[encoded data removed]",
      "text/plain": [
       "<Figure size 2500x1700 with 6 Axes>"
      ]
     },
     "metadata": {},
     "output_type": "display_data"
    }
   ],
   "source": [
    "dim1 = 2; dim2 = 3\n",
    "\n",
    "plt.figure(figsize= (25,17))\n",
    "fig, axs = plt.subplots(dim1, dim2, figsize= (25,17))\n",
    "axs[0, 0].hist(NDATA[10], bins= 50, range= (0,1));\n",
    "axs[0, 1].hist(NDATA[20], bins= 50, range= (0,1));\n",
    "axs[0, 2].hist(NDATA[30], bins= 50, range= (0,1));\n",
    "axs[1, 0].hist(NDATA[40], bins= 50, range= (0,1));\n",
    "axs[1, 1].hist(NDATA[50], bins= 50, range= (0,1));\n",
    "axs[1, 2].hist(NDATA[60], bins= 50, range= (0,1));"
   ]
  },
  {
   "cell_type": "code",
   "execution_count": 61,
   "metadata": {},
   "outputs": [
    {
     "data": {
      "image/png": "[encoded data removed]",
      "text/plain": [
       "<Figure size 640x480 with 1 Axes>"
      ]
     },
     "metadata": {},
     "output_type": "display_data"
    }
   ],
   "source": [
    "plt.hist(NDATA[20], bins= 50);"
   ]
  },
  {
   "cell_type": "code",
   "execution_count": 64,
   "metadata": {},
   "outputs": [
    {
     "data": {
      "image/png": "[encoded data removed]",
      "text/plain": [
       "<Figure size 640x480 with 1 Axes>"
      ]
     },
     "metadata": {},
     "output_type": "display_data"
    }
   ],
   "source": [
    "plt.hist(NDATA[10], bins= 50);"
   ]
  },
  {
   "cell_type": "code",
   "execution_count": 67,
   "metadata": {},
   "outputs": [
    {
     "data": {
      "image/png": "[encoded data removed]",
      "text/plain": [
       "<Figure size 640x480 with 1 Axes>"
      ]
     },
     "metadata": {},
     "output_type": "display_data"
    }
   ],
   "source": [
    "plt.hist(NDATA[50], bins= 50);"
   ]
  },
  {
   "cell_type": "code",
   "execution_count": 66,
   "metadata": {},
   "outputs": [
    {
     "data": {
      "image/png": "[encoded data removed]",
      "text/plain": [
       "<Figure size 640x480 with 1 Axes>"
      ]
     },
     "metadata": {},
     "output_type": "display_data"
    }
   ],
   "source": [
    "plt.hist(NDATA[40], bins= 50);"
   ]
  },
  {
   "cell_type": "code",
   "execution_count": 65,
   "metadata": {},
   "outputs": [
    {
     "data": {
      "image/png": "[encoded data removed]",
      "text/plain": [
       "<Figure size 640x480 with 1 Axes>"
      ]
     },
     "metadata": {},
     "output_type": "display_data"
    }
   ],
   "source": [
    "plt.hist(NDATA[30], bins= 50);"
   ]
  },
  {
   "cell_type": "code",
   "execution_count": 415,
   "metadata": {},
   "outputs": [],
   "source": [
    "is_diagonal = lambda id :  np.array_equal(id, np.diag(np.diag(id)))"
   ]
  },
  {
   "cell_type": "code",
   "execution_count": 447,
   "metadata": {},
   "outputs": [
    {
     "name": "stdout",
     "output_type": "stream",
     "text": [
      " dim =15 | null-dim = (e):2 + (o):8 | rank= (e):4 + (o):1 \n"
     ]
    }
   ],
   "source": [
    "# rg = GF2.Random((6,10)); rg\n",
    "rg = generate_random_gfv(15); rg\n",
    "id = rg @ rg.T\n",
    "\n",
    "if is_diagonal(id):\n",
    "    rg_ns = rg.null_space();rg_rs = rg.row_space()\n",
    "    rg_rs_e = [r for r in rg_rs if r @ r.T == 0] \n",
    "    rg_ns_e = [r for r in rg_ns if r @ r.T == 0]\n",
    "    print (f\" dim ={rg.shape[0]} | null-dim = (e):{len(rg_ns_e)} + (o):{len(rg_ns)-len(rg_ns_e)} | rank= (e):{len(rg_rs_e)} + (o):{len(rg_rs)-len(rg_rs_e)} \")\n",
    "    # rg_ns, rg_rs\n",
    "    # rg_rs[-2], rg_rs[1] \n",
    "# rg @ rg_ns.T\n"
   ]
  },
  {
   "cell_type": "code",
   "execution_count": 448,
   "metadata": {},
   "outputs": [
    {
     "name": "stdout",
     "output_type": "stream",
     "text": [
      "False\n",
      "False\n",
      "True\n",
      "False\n",
      "False\n"
     ]
    }
   ],
   "source": [
    "for elem in np.array(rg_rs).tolist() :\n",
    "    print(elem in  np.array(rg_ns).tolist())"
   ]
  },
  {
   "cell_type": "code",
   "execution_count": 449,
   "metadata": {},
   "outputs": [
    {
     "name": "stdout",
     "output_type": "stream",
     "text": [
      "False\n",
      "True\n",
      "False\n",
      "False\n"
     ]
    }
   ],
   "source": [
    "for elem in np.array(rg_rs_e).tolist() :\n",
    "    print(elem in  np.array(rg_ns_e).tolist())"
   ]
  },
  {
   "cell_type": "code",
   "execution_count": 458,
   "metadata": {},
   "outputs": [
    {
     "data": {
      "text/plain": [
       "GF([[1, 0, 0, 0, 0, 0, 0, 0, 0, 0, 0, 0, 0, 1, 0],\n",
       "    [0, 1, 0, 0, 0, 0, 0, 0, 0, 0, 0, 0, 0, 0, 0],\n",
       "    [0, 0, 1, 0, 0, 0, 0, 1, 0, 0, 0, 0, 0, 0, 0],\n",
       "    [0, 0, 0, 0, 0, 1, 0, 0, 0, 0, 0, 0, 0, 1, 0],\n",
       "    [0, 0, 0, 0, 0, 0, 0, 0, 0, 0, 0, 1, 0, 1, 0],\n",
       "    [0, 0, 0, 0, 0, 0, 0, 0, 0, 0, 0, 0, 0, 0, 0],\n",
       "    [0, 0, 0, 0, 0, 0, 0, 0, 0, 0, 0, 0, 0, 0, 0],\n",
       "    [0, 0, 0, 0, 0, 0, 0, 0, 0, 0, 0, 0, 0, 0, 0],\n",
       "    [0, 0, 0, 0, 0, 0, 0, 0, 0, 0, 0, 0, 0, 0, 0],\n",
       "    [0, 0, 0, 0, 0, 0, 0, 0, 0, 0, 0, 0, 0, 0, 0],\n",
       "    [0, 0, 0, 0, 0, 0, 0, 0, 0, 0, 0, 0, 0, 0, 0],\n",
       "    [0, 0, 0, 0, 0, 0, 0, 0, 0, 0, 0, 0, 0, 0, 0],\n",
       "    [0, 0, 0, 0, 0, 0, 0, 0, 0, 0, 0, 0, 0, 0, 0],\n",
       "    [0, 0, 0, 0, 0, 0, 0, 0, 0, 0, 0, 0, 0, 0, 0],\n",
       "    [0, 0, 0, 0, 0, 0, 0, 0, 0, 0, 0, 0, 0, 0, 0]], order=2)"
      ]
     },
     "execution_count": 458,
     "metadata": {},
     "output_type": "execute_result"
    }
   ],
   "source": [
    "rg.row_reduce()"
   ]
  },
  {
   "cell_type": "code",
   "execution_count": 450,
   "metadata": {},
   "outputs": [
    {
     "data": {
      "text/plain": [
       "GF([[0, 0, 0, 0],\n",
       "    [0, 0, 0, 0],\n",
       "    [0, 0, 1, 1],\n",
       "    [1, 0, 1, 0],\n",
       "    [1, 0, 0, 1],\n",
       "    [0, 0, 0, 0],\n",
       "    [0, 0, 0, 0],\n",
       "    [0, 0, 0, 0],\n",
       "    [0, 0, 0, 0],\n",
       "    [0, 0, 0, 0],\n",
       "    [0, 0, 0, 0],\n",
       "    [0, 0, 0, 0],\n",
       "    [0, 0, 0, 0],\n",
       "    [0, 0, 0, 0],\n",
       "    [0, 0, 0, 0]], order=2)"
      ]
     },
     "execution_count": 450,
     "metadata": {},
     "output_type": "execute_result"
    }
   ],
   "source": [
    "rg @ GF2(rg_rs_e).T"
   ]
  },
  {
   "cell_type": "code",
   "execution_count": 451,
   "metadata": {},
   "outputs": [
    {
     "data": {
      "text/plain": [
       "([GF([1, 0, 0, 0, 0, 0, 0, 0, 0, 0, 0, 0, 0, 1, 0], order=2),\n",
       "  GF([0, 0, 1, 0, 0, 0, 0, 1, 0, 0, 0, 0, 0, 0, 0], order=2),\n",
       "  GF([0, 0, 0, 0, 0, 1, 0, 0, 0, 0, 0, 0, 0, 1, 0], order=2),\n",
       "  GF([0, 0, 0, 0, 0, 0, 0, 0, 0, 0, 0, 1, 0, 1, 0], order=2)],\n",
       " [GF([1, 0, 0, 0, 0, 1, 0, 0, 0, 0, 0, 1, 0, 1, 0], order=2),\n",
       "  GF([0, 0, 1, 0, 0, 0, 0, 1, 0, 0, 0, 0, 0, 0, 0], order=2)])"
      ]
     },
     "execution_count": 451,
     "metadata": {},
     "output_type": "execute_result"
    }
   ],
   "source": [
    "rg_rs_e,rg_ns_e"
   ]
  },
  {
   "cell_type": "code",
   "execution_count": 452,
   "metadata": {},
   "outputs": [
    {
     "name": "stdout",
     "output_type": "stream",
     "text": [
      "[0 0 1 0 0 0 0 1 0 0 0 0 0 0 0]\n",
      "0 0\n"
     ]
    }
   ],
   "source": [
    "for i in rg_rs:\n",
    "    for j in rg_ns:\n",
    "        if np.array_equal(j, i) :\n",
    "            print(j)\n",
    "            print(i @ i.T, np.sum(rg @ j.T))\n",
    "            "
   ]
  },
  {
   "cell_type": "code",
   "execution_count": 453,
   "metadata": {},
   "outputs": [
    {
     "name": "stdout",
     "output_type": "stream",
     "text": [
      "[0 0 1 0 0 0 0 1 0 0 0 0 0 0 0]\n",
      "0 0\n"
     ]
    }
   ],
   "source": [
    "for i in rg_rs:\n",
    "    if np.sum(rg @ i.T) ==0 :\n",
    "        for j in rg_ns:\n",
    "            if np.array_equal(j, i) :\n",
    "            \n",
    "                print(j)\n",
    "                print(i @ i.T, np.sum(rg @ j.T))\n",
    "            "
   ]
  },
  {
   "cell_type": "code",
   "execution_count": 454,
   "metadata": {},
   "outputs": [
    {
     "data": {
      "text/plain": [
       "True"
      ]
     },
     "execution_count": 454,
     "metadata": {},
     "output_type": "execute_result"
    }
   ],
   "source": [
    "id = rg @ rg.T\n",
    "is_diagonal = lambda id :  np.array_equal(id, np.diag(np.diag(id)))\n",
    "\n",
    "is_diagonal(id)"
   ]
  },
  {
   "cell_type": "code",
   "execution_count": 455,
   "metadata": {},
   "outputs": [
    {
     "data": {
      "text/plain": [
       "GF([[1, 0, 1, 0, 0, 1, 0, 1, 0, 0, 0, 1, 0, 1, 0],\n",
       "    [0, 0, 0, 0, 0, 0, 0, 0, 0, 0, 0, 0, 0, 0, 0],\n",
       "    [1, 1, 0, 0, 0, 0, 0, 0, 0, 0, 0, 0, 0, 1, 0],\n",
       "    [0, 1, 0, 0, 0, 0, 0, 0, 0, 0, 0, 1, 0, 1, 0],\n",
       "    [1, 1, 0, 0, 0, 0, 0, 0, 0, 0, 0, 1, 0, 0, 0],\n",
       "    [0, 0, 1, 0, 0, 0, 0, 1, 0, 0, 0, 0, 0, 0, 0],\n",
       "    [0, 0, 0, 0, 0, 0, 0, 0, 0, 0, 0, 0, 0, 0, 0],\n",
       "    [1, 0, 1, 0, 0, 1, 0, 1, 0, 0, 0, 1, 0, 1, 0],\n",
       "    [1, 0, 1, 0, 0, 1, 0, 1, 0, 0, 0, 1, 0, 1, 0],\n",
       "    [0, 0, 0, 0, 0, 0, 0, 0, 0, 0, 0, 0, 0, 0, 0],\n",
       "    [1, 0, 1, 0, 0, 1, 0, 1, 0, 0, 0, 1, 0, 1, 0],\n",
       "    [1, 0, 1, 0, 0, 1, 0, 1, 0, 0, 0, 1, 0, 1, 0],\n",
       "    [1, 0, 1, 0, 0, 1, 0, 1, 0, 0, 0, 1, 0, 1, 0],\n",
       "    [0, 0, 0, 0, 0, 0, 0, 0, 0, 0, 0, 0, 0, 0, 0],\n",
       "    [0, 0, 0, 0, 0, 0, 0, 0, 0, 0, 0, 0, 0, 0, 0]], order=2)"
      ]
     },
     "execution_count": 455,
     "metadata": {},
     "output_type": "execute_result"
    }
   ],
   "source": [
    "rg"
   ]
  },
  {
   "cell_type": "code",
   "execution_count": 456,
   "metadata": {},
   "outputs": [
    {
     "data": {
      "text/plain": [
       "(GF([[1, 0, 0, 0, 0, 0, 0, 0, 0, 0, 0, 0, 0, 1, 0],\n",
       "     [0, 1, 0, 0, 0, 0, 0, 0, 0, 0, 0, 0, 0, 0, 0],\n",
       "     [0, 0, 1, 0, 0, 0, 0, 1, 0, 0, 0, 0, 0, 0, 0],\n",
       "     [0, 0, 0, 0, 0, 1, 0, 0, 0, 0, 0, 0, 0, 1, 0],\n",
       "     [0, 0, 0, 0, 0, 0, 0, 0, 0, 0, 0, 1, 0, 1, 0]], order=2),\n",
       " GF([[1, 0, 0, 0, 0, 1, 0, 0, 0, 0, 0, 1, 0, 1, 0],\n",
       "     [0, 0, 1, 0, 0, 0, 0, 1, 0, 0, 0, 0, 0, 0, 0],\n",
       "     [0, 0, 0, 1, 0, 0, 0, 0, 0, 0, 0, 0, 0, 0, 0],\n",
       "     [0, 0, 0, 0, 1, 0, 0, 0, 0, 0, 0, 0, 0, 0, 0],\n",
       "     [0, 0, 0, 0, 0, 0, 1, 0, 0, 0, 0, 0, 0, 0, 0],\n",
       "     [0, 0, 0, 0, 0, 0, 0, 0, 1, 0, 0, 0, 0, 0, 0],\n",
       "     [0, 0, 0, 0, 0, 0, 0, 0, 0, 1, 0, 0, 0, 0, 0],\n",
       "     [0, 0, 0, 0, 0, 0, 0, 0, 0, 0, 1, 0, 0, 0, 0],\n",
       "     [0, 0, 0, 0, 0, 0, 0, 0, 0, 0, 0, 0, 1, 0, 0],\n",
       "     [0, 0, 0, 0, 0, 0, 0, 0, 0, 0, 0, 0, 0, 0, 1]], order=2))"
      ]
     },
     "execution_count": 456,
     "metadata": {},
     "output_type": "execute_result"
    }
   ],
   "source": [
    "rg_rs,rg_ns"
   ]
  },
  {
   "cell_type": "code",
   "execution_count": 457,
   "metadata": {},
   "outputs": [
    {
     "data": {
      "text/plain": [
       "GF([[0, 0, 0, 0, 0],\n",
       "    [0, 0, 0, 0, 0],\n",
       "    [0, 1, 0, 1, 1],\n",
       "    [1, 1, 0, 1, 0],\n",
       "    [1, 1, 0, 0, 1],\n",
       "    [0, 0, 0, 0, 0],\n",
       "    [0, 0, 0, 0, 0],\n",
       "    [0, 0, 0, 0, 0],\n",
       "    [0, 0, 0, 0, 0],\n",
       "    [0, 0, 0, 0, 0],\n",
       "    [0, 0, 0, 0, 0],\n",
       "    [0, 0, 0, 0, 0],\n",
       "    [0, 0, 0, 0, 0],\n",
       "    [0, 0, 0, 0, 0],\n",
       "    [0, 0, 0, 0, 0]], order=2)"
      ]
     },
     "execution_count": 457,
     "metadata": {},
     "output_type": "execute_result"
    }
   ],
   "source": [
    "rg @ rg_rs.T"
   ]
  },
  {
   "cell_type": "code",
   "execution_count": null,
   "metadata": {},
   "outputs": [],
   "source": []
  }
 ],
 "metadata": {
  "kernelspec": {
   "display_name": "Python 3",
   "language": "python",
   "name": "python3"
  },
  "language_info": {
   "codemirror_mode": {
    "name": "ipython",
    "version": 3
   },
   "file_extension": ".py",
   "mimetype": "text/x-python",
   "name": "python",
   "nbconvert_exporter": "python",
   "pygments_lexer": "ipython3",
   "version": "3.10.12"
  },
  "orig_nbformat": 4
 },
 "nbformat": 4,
 "nbformat_minor": 2
}
