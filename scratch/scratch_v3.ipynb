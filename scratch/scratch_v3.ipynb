{
 "cells": [
  {
   "cell_type": "code",
   "execution_count": 1,
   "metadata": {},
   "outputs": [],
   "source": [
    "import graphix \n",
    "import numpy as np\n",
    "from graphix import Circuit\n",
    "import networkx as nx\n",
    "import matplotlib.pyplot as plt\n",
    "from graphix.gflow import flow \n",
    "from graphix.pattern import *\n",
    "from graphix_pafloxy.graphix.pretty_plot_funtions import *\n",
    "from qiskit.circuit import Parameter, ParameterExpression"
   ]
  },
  {
   "cell_type": "code",
   "execution_count": 2,
   "metadata": {},
   "outputs": [],
   "source": [
    "th = Parameter(\"th\")"
   ]
  },
  {
   "cell_type": "code",
   "execution_count": 3,
   "metadata": {},
   "outputs": [
    {
     "ename": "KeyError",
     "evalue": "2",
     "output_type": "error",
     "traceback": [
      "\u001b[0;31m---------------------------------------------------------------------------\u001b[0m",
      "\u001b[0;31mKeyError\u001b[0m                                  Traceback (most recent call last)",
      "Cell \u001b[0;32mIn[3], line 7\u001b[0m\n\u001b[1;32m      4\u001b[0m pat\u001b[39m.\u001b[39madd([\u001b[39m'\u001b[39m\u001b[39mE\u001b[39m\u001b[39m'\u001b[39m, (\u001b[39m0\u001b[39m,\u001b[39m2\u001b[39m) ])\n\u001b[1;32m      5\u001b[0m pat\u001b[39m.\u001b[39madd([\u001b[39m'\u001b[39m\u001b[39mE\u001b[39m\u001b[39m'\u001b[39m, (\u001b[39m0\u001b[39m,\u001b[39m3\u001b[39m) ])\n\u001b[0;32m----> 7\u001b[0m pat\u001b[39m.\u001b[39;49madd([\u001b[39m'\u001b[39;49m\u001b[39mM\u001b[39;49m\u001b[39m'\u001b[39;49m, \u001b[39m2\u001b[39;49m, \u001b[39m\"\u001b[39;49m\u001b[39mXY\u001b[39;49m\u001b[39m\"\u001b[39;49m, th \u001b[39m/\u001b[39;49m \u001b[39m3\u001b[39;49m, [], []]) \n",
      "File \u001b[0;32m/usr/local/lib/python3.10/dist-packages/graphix/pattern.py:97\u001b[0m, in \u001b[0;36mPattern.add\u001b[0;34m(self, cmd)\u001b[0m\n\u001b[1;32m     95\u001b[0m     \u001b[39mself\u001b[39m\u001b[39m.\u001b[39moutput_nodes\u001b[39m.\u001b[39mappend(cmd[\u001b[39m1\u001b[39m])\n\u001b[1;32m     96\u001b[0m \u001b[39melif\u001b[39;00m cmd[\u001b[39m0\u001b[39m] \u001b[39m==\u001b[39m \u001b[39m\"\u001b[39m\u001b[39mM\u001b[39m\u001b[39m\"\u001b[39m:\n\u001b[0;32m---> 97\u001b[0m     \u001b[39mself\u001b[39;49m\u001b[39m.\u001b[39;49moutput_nodes\u001b[39m.\u001b[39;49mremove(cmd[\u001b[39m1\u001b[39;49m])\n\u001b[1;32m     98\u001b[0m \u001b[39mself\u001b[39m\u001b[39m.\u001b[39mseq\u001b[39m.\u001b[39mappend(cmd)\n",
      "\u001b[0;31mKeyError\u001b[0m: 2"
     ]
    }
   ],
   "source": [
    "pat = Pattern(4, output_nodes= {0})\n",
    "\n",
    "pat.add(['E', (1,0)])\n",
    "pat.add(['E', (0,2) ])\n",
    "pat.add(['E', (0,3) ])\n",
    "\n",
    "pat.add(['M', 2, \"XY\", th / 3, [], []]) "
   ]
  },
  {
   "cell_type": "code",
   "execution_count": 29,
   "metadata": {},
   "outputs": [
    {
     "name": "stdout",
     "output_type": "stream",
     "text": [
      "N, node = 0\n",
      "N, node = 1\n",
      "N, node = 2\n",
      "N, node = 3\n",
      "E, nodes = (1, 0)\n",
      "E, nodes = (0, 2)\n",
      "E, nodes = (0, 3)\n"
     ]
    }
   ],
   "source": [
    "pat.print_pattern()"
   ]
  },
  {
   "cell_type": "code",
   "execution_count": 30,
   "metadata": {},
   "outputs": [
    {
     "data": {
      "text/plain": [
       "{0}"
      ]
     },
     "execution_count": 30,
     "metadata": {},
     "output_type": "execute_result"
    }
   ],
   "source": [
    "pat.output_nodes"
   ]
  },
  {
   "cell_type": "code",
   "execution_count": 22,
   "metadata": {},
   "outputs": [
    {
     "name": "stdout",
     "output_type": "stream",
     "text": [
      "N, node = 0\n",
      "N, node = 1\n",
      "N, node = 2\n",
      "E, nodes = (1, 0)\n",
      "E, nodes = (0, 2)\n",
      "M, node = 2, plane = XY, angle(pi) = th/3, s-domain = [], t_domain = []\n"
     ]
    }
   ],
   "source": [
    "pat.print_pattern()"
   ]
  },
  {
   "cell_type": "code",
   "execution_count": 31,
   "metadata": {},
   "outputs": [
    {
     "ename": "KeyError",
     "evalue": "2",
     "output_type": "error",
     "traceback": [
      "\u001b[0;31m---------------------------------------------------------------------------\u001b[0m",
      "\u001b[0;31mKeyError\u001b[0m                                  Traceback (most recent call last)",
      "Cell \u001b[0;32mIn[31], line 2\u001b[0m\n\u001b[1;32m      1\u001b[0m \u001b[39m# pat.add(['M', 1, \"XY\", th, [], []])\u001b[39;00m\n\u001b[0;32m----> 2\u001b[0m pat\u001b[39m.\u001b[39;49madd([\u001b[39m'\u001b[39;49m\u001b[39mM\u001b[39;49m\u001b[39m'\u001b[39;49m, \u001b[39m2\u001b[39;49m, \u001b[39m\"\u001b[39;49m\u001b[39mXY\u001b[39;49m\u001b[39m\"\u001b[39;49m, th \u001b[39m/\u001b[39;49m \u001b[39m3\u001b[39;49m, [], []]) \n",
      "File \u001b[0;32m/usr/local/lib/python3.10/dist-packages/graphix/pattern.py:97\u001b[0m, in \u001b[0;36mPattern.add\u001b[0;34m(self, cmd)\u001b[0m\n\u001b[1;32m     95\u001b[0m     \u001b[39mself\u001b[39m\u001b[39m.\u001b[39moutput_nodes\u001b[39m.\u001b[39mappend(cmd[\u001b[39m1\u001b[39m])\n\u001b[1;32m     96\u001b[0m \u001b[39melif\u001b[39;00m cmd[\u001b[39m0\u001b[39m] \u001b[39m==\u001b[39m \u001b[39m\"\u001b[39m\u001b[39mM\u001b[39m\u001b[39m\"\u001b[39m:\n\u001b[0;32m---> 97\u001b[0m     \u001b[39mself\u001b[39;49m\u001b[39m.\u001b[39;49moutput_nodes\u001b[39m.\u001b[39;49mremove(cmd[\u001b[39m1\u001b[39;49m])\n\u001b[1;32m     98\u001b[0m \u001b[39mself\u001b[39m\u001b[39m.\u001b[39mseq\u001b[39m.\u001b[39mappend(cmd)\n",
      "\u001b[0;31mKeyError\u001b[0m: 2"
     ]
    }
   ],
   "source": [
    "# pat.add(['M', 1, \"XY\", th, [], []])\n",
    "pat.add(['M', 2, \"XY\", th / 3, [], []]) "
   ]
  },
  {
   "cell_type": "code",
   "execution_count": null,
   "metadata": {},
   "outputs": [],
   "source": []
  },
  {
   "cell_type": "code",
   "execution_count": null,
   "metadata": {},
   "outputs": [],
   "source": []
  },
  {
   "attachments": {},
   "cell_type": "markdown",
   "metadata": {},
   "source": [
    "##### ex"
   ]
  },
  {
   "cell_type": "code",
   "execution_count": 9,
   "metadata": {},
   "outputs": [],
   "source": [
    "qc = Circuit(2)\n",
    "qc.rzz(0,1, np.pi / 3)"
   ]
  },
  {
   "cell_type": "code",
   "execution_count": 10,
   "metadata": {},
   "outputs": [
    {
     "name": "stdout",
     "output_type": "stream",
     "text": [
      "N, node = 0\n",
      "N, node = 1\n",
      "N, node = 2\n",
      "E, nodes = (1, 2)\n",
      "E, nodes = (0, 2)\n",
      "M, node = 2, plane = XY, angle(pi) = -0.3333333333333333, s-domain = [], t_domain = [], Clifford index = 6\n",
      "Z byproduct, node = 1, domain = [2]\n",
      "Z byproduct, node = 0, domain = [2]\n"
     ]
    }
   ],
   "source": [
    "p = qc.standardize_and_transpile(opt= True)\n",
    "\n",
    "p.print_pattern()"
   ]
  },
  {
   "cell_type": "code",
   "execution_count": 14,
   "metadata": {},
   "outputs": [
    {
     "data": {
      "text/plain": [
       "(1, {0: {2}})"
      ]
     },
     "execution_count": 14,
     "metadata": {},
     "output_type": "execute_result"
    }
   ],
   "source": [
    "p.get_measurement_commands"
   ]
  },
  {
   "cell_type": "code",
   "execution_count": 11,
   "metadata": {},
   "outputs": [
    {
     "data": {
      "image/png": "[encoded data removed]",
      "text/plain": [
       "<Figure size 640x480 with 1 Axes>"
      ]
     },
     "metadata": {},
     "output_type": "display_data"
    }
   ],
   "source": [
    "nx.draw_networkx(get_nx_graph(p))"
   ]
  },
  {
   "cell_type": "code",
   "execution_count": 15,
   "metadata": {},
   "outputs": [],
   "source": [
    "n = 4\n",
    "qc = Circuit(n)\n",
    "num_layers = 2\n",
    "\n",
    "for l in range(num_layers):\n",
    "\n",
    "    for i in range(n-1):\n",
    "        qc.rzz(i, i+1, 1/2 )\n",
    "    for i in range(n):\n",
    "        qc.rx(i, np.random.random() * np.pi)\n",
    "\n",
    "        \n"
   ]
  },
  {
   "cell_type": "code",
   "execution_count": 16,
   "metadata": {},
   "outputs": [
    {
     "name": "stdout",
     "output_type": "stream",
     "text": [
      "N, node = 0\n",
      "N, node = 1\n",
      "N, node = 2\n",
      "N, node = 3\n",
      "N, node = 4\n",
      "N, node = 5\n",
      "N, node = 6\n",
      "N, node = 7\n",
      "N, node = 8\n",
      "N, node = 9\n",
      "N, node = 10\n",
      "N, node = 11\n",
      "N, node = 12\n",
      "N, node = 13\n",
      "N, node = 14\n",
      "N, node = 15\n",
      "N, node = 16\n",
      "N, node = 17\n",
      "N, node = 18\n",
      "N, node = 19\n",
      "N, node = 20\n",
      "N, node = 21\n",
      "N, node = 22\n",
      "N, node = 23\n",
      "N, node = 24\n",
      "N, node = 25\n",
      "E, nodes = (4, 0)\n",
      "E, nodes = (4, 1)\n",
      "E, nodes = (5, 1)\n",
      "E, nodes = (5, 2)\n",
      "E, nodes = (6, 2)\n",
      "E, nodes = (6, 3)\n",
      "E, nodes = (0, 7)\n",
      "E, nodes = (7, 8)\n",
      "E, nodes = (1, 9)\n",
      "E, nodes = (9, 10)\n",
      "E, nodes = (2, 11)\n",
      "E, nodes = (11, 12)\n",
      "E, nodes = (3, 13)\n",
      "E, nodes = (13, 14)\n",
      "44 more commands truncated. Change lim argument of print_pattern() to show more\n"
     ]
    }
   ],
   "source": [
    "pattern = qc.transpile(opt= True)\n",
    "pattern.standardize()\n",
    "pattern.print_pattern()"
   ]
  },
  {
   "cell_type": "code",
   "execution_count": 17,
   "metadata": {},
   "outputs": [
    {
     "data": {
      "text/plain": [
       "{0: {4},\n",
       " 1: {4, 5},\n",
       " 2: {5, 6},\n",
       " 3: {6},\n",
       " 4: set(),\n",
       " 5: set(),\n",
       " 6: set(),\n",
       " 7: {0},\n",
       " 8: {0, 7, 15},\n",
       " 9: {1},\n",
       " 10: {1, 9, 15, 16},\n",
       " 11: {2},\n",
       " 12: {2, 11, 16, 17},\n",
       " 13: {3},\n",
       " 14: {3, 13, 17},\n",
       " 15: {7, 9},\n",
       " 16: {9, 11},\n",
       " 17: {11, 13},\n",
       " 18: {7, 8},\n",
       " 19: {8, 18},\n",
       " 20: {9, 10},\n",
       " 21: {10, 20},\n",
       " 22: {11, 12},\n",
       " 23: {12, 22},\n",
       " 24: {13, 14},\n",
       " 25: {14, 24}}"
      ]
     },
     "execution_count": 17,
     "metadata": {},
     "output_type": "execute_result"
    }
   ],
   "source": [
    "pattern._get_dependency()"
   ]
  },
  {
   "cell_type": "code",
   "execution_count": 18,
   "metadata": {},
   "outputs": [
    {
     "data": {
      "text/plain": [
       "{0: {4, 5, 6},\n",
       " 1: {0, 1, 2, 3},\n",
       " 2: {7, 9, 11, 13},\n",
       " 3: {15, 16, 17},\n",
       " 4: {8, 10, 12, 14},\n",
       " 5: {18, 20, 22, 24}}"
      ]
     },
     "execution_count": 18,
     "metadata": {},
     "output_type": "execute_result"
    }
   ],
   "source": [
    "pattern.get_layers()[1]"
   ]
  },
  {
   "cell_type": "code",
   "execution_count": 19,
   "metadata": {},
   "outputs": [],
   "source": [
    "l = pattern.get_local_pattern()\n",
    "l.standardize()"
   ]
  },
  {
   "cell_type": "code",
   "execution_count": 20,
   "metadata": {},
   "outputs": [
    {
     "data": {
      "image/png": "[encoded data removed]",
      "text/plain": [
       "<Figure size 640x480 with 1 Axes>"
      ]
     },
     "metadata": {},
     "output_type": "display_data"
    }
   ],
   "source": [
    "nx.draw_networkx(get_nx_graph(pattern))"
   ]
  },
  {
   "cell_type": "code",
   "execution_count": 22,
   "metadata": {},
   "outputs": [
    {
     "ename": "AssertionError",
     "evalue": "",
     "output_type": "error",
     "traceback": [
      "\u001b[0;31m---------------------------------------------------------------------------\u001b[0m",
      "\u001b[0;31mAssertionError\u001b[0m                            Traceback (most recent call last)",
      "Cell \u001b[0;32mIn[22], line 1\u001b[0m\n\u001b[0;32m----> 1\u001b[0m pretty_plot_pattern(pattern\u001b[39m=\u001b[39;49m pattern, input_nodes\u001b[39m=\u001b[39;49m {\u001b[39m4\u001b[39;49m,\u001b[39m5\u001b[39;49m,\u001b[39m2\u001b[39;49m})\n",
      "File \u001b[0;32m~/Documents/mbqc_packages/graphix_pafloxy/graphix/helper_funtions.py:77\u001b[0m, in \u001b[0;36mpretty_plot_pattern\u001b[0;34m(pattern, input_nodes)\u001b[0m\n\u001b[1;32m     74\u001b[0m g \u001b[39m=\u001b[39m get_nx_graph(pattern)\n\u001b[1;32m     75\u001b[0m f, l_k \u001b[39m=\u001b[39m flow(g, input_nodes, \u001b[39mset\u001b[39m(pattern\u001b[39m.\u001b[39moutput_nodes))\n\u001b[0;32m---> 77\u001b[0m \u001b[39massert\u001b[39;00m \u001b[39misinstance\u001b[39m(f, \u001b[39mdict\u001b[39m)\n\u001b[1;32m     78\u001b[0m pos, length \u001b[39m=\u001b[39m get_pos(pattern, f) ; layer_data \u001b[39m=\u001b[39m process_layer_data(g, l_k)\n\u001b[1;32m     80\u001b[0m nx\u001b[39m.\u001b[39mset_node_attributes(g, layer_data[\u001b[39m'\u001b[39m\u001b[39mattribute_data\u001b[39m\u001b[39m'\u001b[39m])\n",
      "\u001b[0;31mAssertionError\u001b[0m: "
     ]
    }
   ],
   "source": [
    "pretty_plot_pattern(pattern= pattern, input_nodes= {4,5,2})"
   ]
  },
  {
   "cell_type": "code",
   "execution_count": 28,
   "metadata": {},
   "outputs": [
    {
     "data": {
      "text/plain": [
       "(None, None)"
      ]
     },
     "execution_count": 28,
     "metadata": {},
     "output_type": "execute_result"
    }
   ],
   "source": [
    "gflow(get_nx_graph(pattern), {4,5,2}, set(pattern.output_nodes))"
   ]
  },
  {
   "cell_type": "code",
   "execution_count": null,
   "metadata": {},
   "outputs": [],
   "source": []
  }
 ],
 "metadata": {
  "kernelspec": {
   "display_name": "Python 3",
   "language": "python",
   "name": "python3"
  },
  "language_info": {
   "codemirror_mode": {
    "name": "ipython",
    "version": 3
   },
   "file_extension": ".py",
   "mimetype": "text/x-python",
   "name": "python",
   "nbconvert_exporter": "python",
   "pygments_lexer": "ipython3",
   "version": "3.10.6"
  },
  "orig_nbformat": 4
 },
 "nbformat": 4,
 "nbformat_minor": 2
}
